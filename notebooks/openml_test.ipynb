{
 "cells": [
  {
   "cell_type": "code",
   "execution_count": null,
   "metadata": {},
   "outputs": [],
   "source": [
    "import openml"
   ]
  },
  {
   "cell_type": "code",
   "execution_count": null,
   "metadata": {},
   "outputs": [],
   "source": [
    "task = openml.tasks.get_task(31, download_splits=False)\n",
    "dataset = task.get_dataset()\n",
    "\n",
    "print(f\"Task type: {task.task_type}\")\n",
    "print(f\"Dataset name: {dataset.name}\")\n",
    "print(f\"Description: {dataset.description}\")\n",
    "print(f\"Number of instances: {dataset.qualities['NumberOfInstances']}\")\n",
    "print(f\"Number of features: {dataset.qualities['NumberOfFeatures']}\")\n",
    "print(f\"Target feature: {dataset.default_target_attribute}\")"
   ]
  },
  {
   "cell_type": "code",
   "execution_count": 1,
   "metadata": {},
   "outputs": [],
   "source": [
    "import os\n",
    "\n",
    "def find_child_index(parent_dir, child_name):\n",
    "    try:\n",
    "        directory_contents = os.listdir(parent_dir)\n",
    "        if child_name in directory_contents:\n",
    "            return directory_contents.index(child_name)\n",
    "        return -1\n",
    "    except FileNotFoundError:\n",
    "        print(f\"Parent directory {parent_dir} not found\")\n",
    "        return -1"
   ]
  },
  {
   "cell_type": "code",
   "execution_count": 3,
   "metadata": {},
   "outputs": [
    {
     "name": "stdout",
     "output_type": "stream",
     "text": [
      "348\n"
     ]
    }
   ],
   "source": [
    "parent_dir = \"results-category3\"\n",
    "child_name = \"cv_early_stop_strategy=current_average_worse_than_mean_best-fold=0-metric=roc_auc_ovr-n_splits=10-optimizer=random_search-pipeline=mlp_classifier-task=146818\"\n",
    "\n",
    "print(find_child_index(parent_dir, child_name))"
   ]
  },
  {
   "cell_type": "markdown",
   "metadata": {},
   "source": [
    "# Quick commands\n",
    "1. One exp\n",
    "    ```bash\n",
    "    python e1.py submit --expname \"category3-nsplits-10\" --job-array-limit 1000 --mail-type ALL --mail-user avakhutinskiy1@sheffield.ac.uk\n",
    "    ```\n",
    "\n",
    "    Output:\n",
    "    ```bash\n",
    "    pending: 1080\n",
    "    Submitted batch job 5860009\n",
    "\n",
    "    Due to the job array of the experiment \"category3-nsplits-10\" (1080) exceeding job array limit (1000):\n",
    "    Submitted chunk 0-999 of 1079\n",
    "\n",
    "    To submit the next chunk, run the following command when 80 jobs terminate (succed or fail):\n",
    "\n",
    "        python e1.py submit --expname category3-nsplits-10 --job-array-limit 1000 --chunk-start-idx 1000\n",
    "    ```\n",
    "2. Count files\n",
    "    ```bash\n",
    "    find results-category3/ -name \".flag.submitted\" | wc -l\n",
    "    ```\n",
    "\n",
    "    Output: `1000`"
   ]
  }
 ],
 "metadata": {
  "kernelspec": {
   "display_name": "Python 3",
   "language": "python",
   "name": "python3"
  },
  "language_info": {
   "codemirror_mode": {
    "name": "ipython",
    "version": 3
   },
   "file_extension": ".py",
   "mimetype": "text/x-python",
   "name": "python",
   "nbconvert_exporter": "python",
   "pygments_lexer": "ipython3",
   "version": "3.10.16"
  }
 },
 "nbformat": 4,
 "nbformat_minor": 2
}

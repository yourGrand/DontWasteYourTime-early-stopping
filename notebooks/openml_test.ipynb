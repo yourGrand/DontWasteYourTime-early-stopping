{
 "cells": [
  {
   "cell_type": "code",
   "execution_count": null,
   "metadata": {},
   "outputs": [],
   "source": [
    "import openml"
   ]
  },
  {
   "cell_type": "code",
   "execution_count": null,
   "metadata": {},
   "outputs": [],
   "source": [
    "task = openml.tasks.get_task(31, download_splits=False)\n",
    "dataset = task.get_dataset()\n",
    "\n",
    "print(f\"Task type: {task.task_type}\")\n",
    "print(f\"Dataset name: {dataset.name}\")\n",
    "print(f\"Description: {dataset.description}\")\n",
    "print(f\"Number of instances: {dataset.qualities['NumberOfInstances']}\")\n",
    "print(f\"Number of features: {dataset.qualities['NumberOfFeatures']}\")\n",
    "print(f\"Target feature: {dataset.default_target_attribute}\")"
   ]
  },
  {
   "cell_type": "code",
   "execution_count": 1,
   "metadata": {},
   "outputs": [],
   "source": [
    "import os\n",
    "\n",
    "def find_child_index(parent_dir, child_name):\n",
    "    try:\n",
    "        directory_contents = os.listdir(parent_dir)\n",
    "        if child_name in directory_contents:\n",
    "            return directory_contents.index(child_name)\n",
    "        return -1\n",
    "    except FileNotFoundError:\n",
    "        print(f\"Parent directory {parent_dir} not found\")\n",
    "        return -1"
   ]
  },
  {
   "cell_type": "code",
   "execution_count": 3,
   "metadata": {},
   "outputs": [
    {
     "name": "stdout",
     "output_type": "stream",
     "text": [
      "348\n"
     ]
    }
   ],
   "source": [
    "parent_dir = \"results-category3\"\n",
    "child_name = \"cv_early_stop_strategy=current_average_worse_than_mean_best-fold=0-metric=roc_auc_ovr-n_splits=10-optimizer=random_search-pipeline=mlp_classifier-task=146818\"\n",
    "\n",
    "print(find_child_index(parent_dir, child_name))"
   ]
  },
  {
   "cell_type": "markdown",
   "metadata": {},
   "source": [
    "# Quick commands\n",
    "1. One exp\n",
    "    ```bash\n",
    "    python e1.py submit --expname \"category3-nsplits-10\" --job-array-limit 1000 --mail-type ALL --mail-user avakhutinskiy1@sheffield.ac.uk\n",
    "    ```\n",
    "\n",
    "    Output:\n",
    "    ```bash\n",
    "    pending: 1080\n",
    "    Submitted batch job 5860009\n",
    "\n",
    "    Due to the job array of the experiment \"category3-nsplits-10\" (1080) exceeding job array limit (1000):\n",
    "    Submitted chunk 0-999 of 1079\n",
    "\n",
    "    To submit the next chunk, run the following command when 80 jobs terminate (succed or fail):\n",
    "\n",
    "        python e1.py submit --expname category3-nsplits-10 --job-array-limit 1000 --chunk-start-idx 1000\n",
    "    ```\n",
    "2. Count files\n",
    "    ```bash\n",
    "    find results-category3/ -name \".flag.submitted\" | wc -l\n",
    "    ```\n",
    "\n",
    "    Output: `1000`"
   ]
  },
  {
   "cell_type": "markdown",
   "metadata": {},
   "source": [
    "# Analysis"
   ]
  },
  {
   "cell_type": "code",
   "execution_count": 1,
   "metadata": {},
   "outputs": [],
   "source": [
    "import pandas as pd\n",
    "import numpy as np"
   ]
  },
  {
   "cell_type": "code",
   "execution_count": 2,
   "metadata": {},
   "outputs": [],
   "source": [
    "df_paper  = pd.read_parquet(\"../data-paper/mlp-nsplits-10.parquet.gzip\")\n",
    "df = pd.read_parquet(\"../data/mlp-nsplits-10.parquet\")"
   ]
  },
  {
   "cell_type": "code",
   "execution_count": 3,
   "metadata": {},
   "outputs": [
    {
     "name": "stdout",
     "output_type": "stream",
     "text": [
      "df_paper shape: (2732865, 56)\n",
      "df shape:    (3213287, 57)\n",
      "\n",
      "{'setting:seeded_inner_cv'}\n"
     ]
    }
   ],
   "source": [
    "print(f'df_paper shape: {df_paper.shape}')\n",
    "print(f'df shape:    {df.shape}')\n",
    "\n",
    "columns_diff = set(df.columns).difference(df_paper.columns)\n",
    "print(f'\\n{columns_diff}')"
   ]
  },
  {
   "cell_type": "code",
   "execution_count": 4,
   "metadata": {},
   "outputs": [],
   "source": [
    "df.drop(columns=columns_diff, inplace=True)"
   ]
  },
  {
   "cell_type": "code",
   "execution_count": 5,
   "metadata": {},
   "outputs": [
    {
     "name": "stdout",
     "output_type": "stream",
     "text": [
      "df_paper columns: Index(['created_at', 'reported_at', 'status',\n",
      "       'metric:roc_auc_ovr [0.0, 1.0] (maximize)',\n",
      "       'summary:val_mean_roc_auc_ovr', 'summary:val_std_roc_auc_ovr',\n",
      "       'summary:test_mean_roc_auc_ovr', 'summary:test_std_roc_auc_ovr',\n",
      "       'summary:test_bagged_roc_auc_ovr', 'summary:split_0:val_roc_auc_ovr',\n",
      "       'summary:split_1:val_roc_auc_ovr', 'summary:split_2:val_roc_auc_ovr',\n",
      "       'summary:split_3:val_roc_auc_ovr', 'summary:split_4:val_roc_auc_ovr',\n",
      "       'summary:split_5:val_roc_auc_ovr', 'summary:split_6:val_roc_auc_ovr',\n",
      "       'summary:split_7:val_roc_auc_ovr', 'summary:split_8:val_roc_auc_ovr',\n",
      "       'summary:split_9:val_roc_auc_ovr', 'summary:split_0:test_roc_auc_ovr',\n",
      "       'summary:split_1:test_roc_auc_ovr', 'summary:split_2:test_roc_auc_ovr',\n",
      "       'summary:split_3:test_roc_auc_ovr', 'summary:split_4:test_roc_auc_ovr',\n",
      "       'summary:split_5:test_roc_auc_ovr', 'summary:split_6:test_roc_auc_ovr',\n",
      "       'summary:split_7:test_roc_auc_ovr', 'summary:split_8:test_roc_auc_ovr',\n",
      "       'summary:split_9:test_roc_auc_ovr',\n",
      "       'config:mlp_classifier:MLPClassifier:activation',\n",
      "       'config:mlp_classifier:MLPClassifier:alpha',\n",
      "       'config:mlp_classifier:MLPClassifier:early_stopping',\n",
      "       'config:mlp_classifier:MLPClassifier:hidden_layer_depth',\n",
      "       'config:mlp_classifier:MLPClassifier:learning_rate',\n",
      "       'config:mlp_classifier:MLPClassifier:learning_rate_init',\n",
      "       'config:mlp_classifier:MLPClassifier:momentum',\n",
      "       'config:mlp_classifier:MLPClassifier:num_nodes_per_layer',\n",
      "       'config:mlp_classifier:encoding:categorical:OrdinalEncoder:min_frequency',\n",
      "       'config:mlp_classifier:encoding:categorical:one_hot:__choice__',\n",
      "       'config:mlp_classifier:encoding:numerical:SimpleImputer:strategy',\n",
      "       'config:mlp_classifier:encoding:categorical:one_hot:OneHotEncoder:max_categories',\n",
      "       'setting:root', 'setting:experiment_seed', 'setting:task',\n",
      "       'setting:fold', 'setting:metric', 'setting:pipeline',\n",
      "       'setting:optimizer', 'setting:n_splits',\n",
      "       'setting:cv_early_stop_strategy', 'setting:n_cpus', 'setting:memory_gb',\n",
      "       'setting:time_seconds', 'setting:minimum_trials', 'setting:wait',\n",
      "       'setting:openml_cache_directory'],\n",
      "      dtype='object')\n",
      "df columns: Index(['created_at', 'reported_at', 'status',\n",
      "       'metric:roc_auc_ovr [0.0, 1.0] (maximize)',\n",
      "       'summary:val_mean_roc_auc_ovr', 'summary:val_std_roc_auc_ovr',\n",
      "       'summary:test_mean_roc_auc_ovr', 'summary:test_std_roc_auc_ovr',\n",
      "       'summary:test_bagged_roc_auc_ovr', 'summary:split_0:val_roc_auc_ovr',\n",
      "       'summary:split_1:val_roc_auc_ovr', 'summary:split_2:val_roc_auc_ovr',\n",
      "       'summary:split_3:val_roc_auc_ovr', 'summary:split_4:val_roc_auc_ovr',\n",
      "       'summary:split_5:val_roc_auc_ovr', 'summary:split_6:val_roc_auc_ovr',\n",
      "       'summary:split_7:val_roc_auc_ovr', 'summary:split_8:val_roc_auc_ovr',\n",
      "       'summary:split_9:val_roc_auc_ovr', 'summary:split_0:test_roc_auc_ovr',\n",
      "       'summary:split_1:test_roc_auc_ovr', 'summary:split_2:test_roc_auc_ovr',\n",
      "       'summary:split_3:test_roc_auc_ovr', 'summary:split_4:test_roc_auc_ovr',\n",
      "       'summary:split_5:test_roc_auc_ovr', 'summary:split_6:test_roc_auc_ovr',\n",
      "       'summary:split_7:test_roc_auc_ovr', 'summary:split_8:test_roc_auc_ovr',\n",
      "       'summary:split_9:test_roc_auc_ovr',\n",
      "       'config:mlp_classifier:MLPClassifier:activation',\n",
      "       'config:mlp_classifier:MLPClassifier:alpha',\n",
      "       'config:mlp_classifier:MLPClassifier:early_stopping',\n",
      "       'config:mlp_classifier:MLPClassifier:hidden_layer_depth',\n",
      "       'config:mlp_classifier:MLPClassifier:learning_rate',\n",
      "       'config:mlp_classifier:MLPClassifier:learning_rate_init',\n",
      "       'config:mlp_classifier:MLPClassifier:momentum',\n",
      "       'config:mlp_classifier:MLPClassifier:num_nodes_per_layer',\n",
      "       'config:mlp_classifier:encoding:categorical:OrdinalEncoder:min_frequency',\n",
      "       'config:mlp_classifier:encoding:categorical:one_hot:__choice__',\n",
      "       'config:mlp_classifier:encoding:numerical:SimpleImputer:strategy',\n",
      "       'config:mlp_classifier:encoding:categorical:one_hot:OneHotEncoder:max_categories',\n",
      "       'setting:root', 'setting:experiment_seed', 'setting:task',\n",
      "       'setting:fold', 'setting:metric', 'setting:pipeline',\n",
      "       'setting:optimizer', 'setting:n_splits',\n",
      "       'setting:cv_early_stop_strategy', 'setting:n_cpus', 'setting:memory_gb',\n",
      "       'setting:time_seconds', 'setting:minimum_trials', 'setting:wait',\n",
      "       'setting:openml_cache_directory'],\n",
      "      dtype='object')\n",
      "df_paper index: Index(['trial-2', 'trial-0', 'trial-3', 'trial-6', 'trial-5', 'trial-4',\n",
      "       'trial-9', 'trial-10', 'trial-7', 'trial-11',\n",
      "       ...\n",
      "       'trial-1435', 'trial-1439', 'trial-1437', 'trial-1430', 'trial-1438',\n",
      "       'trial-1442', 'trial-1440', 'trial-1444', 'trial-1445', 'trial-1443'],\n",
      "      dtype='object', name='name', length=2732865)\n",
      "df index: Index(['trial-2', 'trial-0', 'trial-3', 'trial-6', 'trial-5', 'trial-4',\n",
      "       'trial-9', 'trial-7', 'trial-10', 'trial-11',\n",
      "       ...\n",
      "       'trial-1813', 'trial-1815', 'trial-1817', 'trial-1816', 'trial-1820',\n",
      "       'trial-1821', 'trial-1819', 'trial-1822', 'trial-1824', 'trial-1823'],\n",
      "      dtype='object', name='name', length=3213287)\n"
     ]
    }
   ],
   "source": [
    "print(\"df_paper columns:\", df_paper.columns)\n",
    "print(\"df columns:\", df.columns)\n",
    "print(\"df_paper index:\", df_paper.index)\n",
    "print(\"df index:\", df.index)"
   ]
  },
  {
   "cell_type": "code",
   "execution_count": null,
   "metadata": {},
   "outputs": [],
   "source": []
  },
  {
   "cell_type": "code",
   "execution_count": null,
   "metadata": {},
   "outputs": [],
   "source": []
  }
 ],
 "metadata": {
  "kernelspec": {
   "display_name": "automl-early-stop",
   "language": "python",
   "name": "python3"
  },
  "language_info": {
   "codemirror_mode": {
    "name": "ipython",
    "version": 3
   },
   "file_extension": ".py",
   "mimetype": "text/x-python",
   "name": "python",
   "nbconvert_exporter": "python",
   "pygments_lexer": "ipython3",
   "version": "3.10.16"
  }
 },
 "nbformat": 4,
 "nbformat_minor": 2
}

{
 "cells": [
  {
   "cell_type": "code",
   "execution_count": null,
   "metadata": {},
   "outputs": [],
   "source": [
    "import openml"
   ]
  },
  {
   "cell_type": "code",
   "execution_count": null,
   "metadata": {},
   "outputs": [],
   "source": [
    "task = openml.tasks.get_task(31, download_splits=False)\n",
    "dataset = task.get_dataset()\n",
    "\n",
    "print(f\"Task type: {task.task_type}\")\n",
    "print(f\"Dataset name: {dataset.name}\")\n",
    "print(f\"Description: {dataset.description}\")\n",
    "print(f\"Number of instances: {dataset.qualities['NumberOfInstances']}\")\n",
    "print(f\"Number of features: {dataset.qualities['NumberOfFeatures']}\")\n",
    "print(f\"Target feature: {dataset.default_target_attribute}\")"
   ]
  },
  {
   "cell_type": "code",
   "execution_count": null,
   "metadata": {},
   "outputs": [],
   "source": [
    "import os\n",
    "\n",
    "def find_child_index(parent_dir, child_name):\n",
    "    try:\n",
    "        directory_contents = os.listdir(parent_dir)\n",
    "        if child_name in directory_contents:\n",
    "            return directory_contents.index(child_name)\n",
    "        return -1\n",
    "    except FileNotFoundError:\n",
    "        print(f\"Parent directory {parent_dir} not found\")\n",
    "        return -1"
   ]
  }
 ],
 "metadata": {
  "kernelspec": {
   "display_name": "Python 3",
   "language": "python",
   "name": "python3"
  },
  "language_info": {
   "codemirror_mode": {
    "name": "ipython",
    "version": 3
   },
   "file_extension": ".py",
   "mimetype": "text/x-python",
   "name": "python",
   "nbconvert_exporter": "python",
   "pygments_lexer": "ipython3",
   "version": "3.10.16"
  }
 },
 "nbformat": 4,
 "nbformat_minor": 2
}
